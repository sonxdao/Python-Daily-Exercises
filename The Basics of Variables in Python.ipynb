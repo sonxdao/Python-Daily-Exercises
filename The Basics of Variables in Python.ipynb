{
 "cells": [
  {
   "cell_type": "markdown",
   "id": "043a3de5",
   "metadata": {},
   "source": [
    "# The Basics of Variables in Python"
   ]
  },
  {
   "cell_type": "markdown",
   "id": "840d8a4e",
   "metadata": {},
   "source": [
    "### 1. A variable is simply a container for storing data values, which could be a number or a string"
   ]
  },
  {
   "cell_type": "markdown",
   "id": "948b9bf9",
   "metadata": {},
   "source": [
    "#### a) Create an Integer variable:"
   ]
  },
  {
   "cell_type": "code",
   "execution_count": 42,
   "id": "b70420b9",
   "metadata": {},
   "outputs": [],
   "source": [
    "#Here we create a variable called 'x', and assign value 59 to it\n",
    "x = 59"
   ]
  },
  {
   "cell_type": "code",
   "execution_count": 43,
   "id": "d602c942",
   "metadata": {},
   "outputs": [
    {
     "name": "stdout",
     "output_type": "stream",
     "text": [
      "59\n"
     ]
    }
   ],
   "source": [
    "#Variable 'x' will carry the value 59 to it. We won't have to say 59 later on, and we can just type 'x'\n",
    "x\n",
    "print (x)"
   ]
  },
  {
   "cell_type": "code",
   "execution_count": 3,
   "id": "f7ce8331",
   "metadata": {},
   "outputs": [
    {
     "data": {
      "text/plain": [
       "int"
      ]
     },
     "execution_count": 3,
     "metadata": {},
     "output_type": "execute_result"
    }
   ],
   "source": [
    "#Python knows what type a variable is automatically, but we can check for data type by using 'type' method \n",
    "type(x)\n",
    "\n",
    "#'x' is integer type"
   ]
  },
  {
   "cell_type": "markdown",
   "id": "ad649b74",
   "metadata": {},
   "source": [
    "#### b) Create a String variable:"
   ]
  },
  {
   "cell_type": "code",
   "execution_count": 8,
   "id": "44633f87",
   "metadata": {},
   "outputs": [
    {
     "name": "stdout",
     "output_type": "stream",
     "text": [
      "Sushi and chicken teriyaki\n"
     ]
    }
   ],
   "source": [
    "y = 'Sushi and chicken teriyaki'\n",
    "print(y)"
   ]
  },
  {
   "cell_type": "code",
   "execution_count": 9,
   "id": "4b399a32",
   "metadata": {},
   "outputs": [
    {
     "data": {
      "text/plain": [
       "str"
      ]
     },
     "execution_count": 9,
     "metadata": {},
     "output_type": "execute_result"
    }
   ],
   "source": [
    "#Again, Python automatically knows what type 'y' is, string\n",
    "type(y)"
   ]
  },
  {
   "cell_type": "markdown",
   "id": "f39ea9f0",
   "metadata": {},
   "source": [
    "#### c) Re-assigning values to variables"
   ]
  },
  {
   "cell_type": "code",
   "execution_count": 10,
   "id": "8e1c85aa",
   "metadata": {},
   "outputs": [
    {
     "name": "stdout",
     "output_type": "stream",
     "text": [
      "Sushi and chicken teriyaki\n"
     ]
    }
   ],
   "source": [
    "#Since we assigned 'Sushi and chicken teriyaki' to 'y' previously, it's going to print that value out:\n",
    "print(y)"
   ]
  },
  {
   "cell_type": "code",
   "execution_count": 13,
   "id": "82945718",
   "metadata": {},
   "outputs": [
    {
     "name": "stdout",
     "output_type": "stream",
     "text": [
      "Chicken teriyaki\n"
     ]
    }
   ],
   "source": [
    "#Now, we changed 'y' value to just 'Chicken teriyaki', printing 'y' gives us only 'Chicken teriyaki'\n",
    "#In other words, we re-assigned the value for 'y'\n",
    "Y = 'Chicken teriyaki'\n",
    "\n",
    "print(Y)"
   ]
  },
  {
   "cell_type": "markdown",
   "id": "f01b768d",
   "metadata": {},
   "source": [
    "#### d) Case sensitivity"
   ]
  },
  {
   "cell_type": "code",
   "execution_count": 14,
   "id": "e67d6e7b",
   "metadata": {},
   "outputs": [
    {
     "name": "stdout",
     "output_type": "stream",
     "text": [
      "CHICKEN tErIyAkI\n"
     ]
    }
   ],
   "source": [
    "#Note: variables are CASE SENSITIVE. Changing print(y) into print(Y) will have different output.\n",
    "#It will print the last value assigned to a variable, or overiding the previous ones.\n",
    "\n",
    "#Example:\n",
    "Y = 'CHICKEN tErIyAkI'\n",
    "print(Y)"
   ]
  },
  {
   "cell_type": "markdown",
   "id": "e4665117",
   "metadata": {},
   "source": [
    "#### e) More on assigning values to variables"
   ]
  },
  {
   "cell_type": "code",
   "execution_count": 44,
   "id": "1e72f637",
   "metadata": {},
   "outputs": [
    {
     "name": "stdout",
     "output_type": "stream",
     "text": [
      "banh mi\n",
      "SUSHI\n",
      "PaD ThAi\n"
     ]
    }
   ],
   "source": [
    "x,y,z = 'Banh Mi','Sushi','Pad Thai'\n",
    "print(x)\n",
    "print(y)\n",
    "print(z)"
   ]
  },
  {
   "cell_type": "code",
   "execution_count": 22,
   "id": "70ab0a82",
   "metadata": {},
   "outputs": [
    {
     "name": "stdout",
     "output_type": "stream",
     "text": [
      "Crawfish Crayfish Crustacean\n",
      "Crawfish Crayfish Crustacean\n",
      "Crawfish Crayfish Crustacean\n"
     ]
    }
   ],
   "source": [
    "#We can assign multiple variables at once, or assign multiple variables to one value as follows:\n",
    "\n",
    "x = y = z = 'Crawfish Crayfish Crustacean'\n",
    "\n",
    "print(x)\n",
    "print(y)\n",
    "print(z)"
   ]
  },
  {
   "cell_type": "code",
   "execution_count": 2,
   "id": "9d2bb67a",
   "metadata": {},
   "outputs": [
    {
     "name": "stdout",
     "output_type": "stream",
     "text": [
      "Dim Sum\n",
      "Fried Chicken\n",
      "Pho\n"
     ]
    }
   ],
   "source": [
    "lunch_options = ['Dim Sum', 'Fried Chicken', 'Pho']\n",
    "\n",
    "x,y,z = lunch_options\n",
    "\n",
    "#The 3 values 'Dim Sum', 'Fried Chicken', 'Pho' are assigned to the x,y,z\n",
    "\n",
    "print(x)\n",
    "print(y)\n",
    "print(z)"
   ]
  },
  {
   "cell_type": "markdown",
   "id": "334d1e08",
   "metadata": {},
   "source": [
    "### 2. Naming conventions for variables in Python: Camel case, Pascal case, and Snake Case"
   ]
  },
  {
   "cell_type": "markdown",
   "id": "25735186",
   "metadata": {},
   "source": [
    "#### a) Camel Case"
   ]
  },
  {
   "cell_type": "code",
   "execution_count": 25,
   "id": "9dfad569",
   "metadata": {},
   "outputs": [],
   "source": [
    "# Only the first word is lower case, and the remaining words have their first letter capitalized\n",
    "testVariableCase = 'Dim Sum'"
   ]
  },
  {
   "cell_type": "markdown",
   "id": "029f5ce7",
   "metadata": {},
   "source": [
    "#### b) Pascal Case"
   ]
  },
  {
   "cell_type": "code",
   "execution_count": 26,
   "id": "b6535779",
   "metadata": {},
   "outputs": [],
   "source": [
    "# Here We Capitalize The First Letter Of Each Word\n",
    "TestVariableCase = 'Fried Chicken'"
   ]
  },
  {
   "cell_type": "markdown",
   "id": "38f19493",
   "metadata": {},
   "source": [
    "#### c) Snake Case"
   ]
  },
  {
   "cell_type": "code",
   "execution_count": 27,
   "id": "71884de1",
   "metadata": {},
   "outputs": [],
   "source": [
    "# We don't use any capital letters here, but instead use underscores to separate words\n",
    "test_variable_case = 'Poulet Basquaise'"
   ]
  },
  {
   "cell_type": "code",
   "execution_count": 28,
   "id": "18560131",
   "metadata": {},
   "outputs": [],
   "source": [
    "# These variable names work. Do not use space, -, commas  or dashes\n",
    "\n",
    "testVar = 'Poulet Basquaise'\n",
    "TestVar = 'Poulet Basquaise'\n",
    "testVar2 = 'Poulet Basquaise'\n",
    "testvar = 'Poulet Basquaise'\n",
    "test_var = 'Poulet Basquaise'\n",
    "_test_var = 'Poulet Basquaise'"
   ]
  },
  {
   "cell_type": "markdown",
   "id": "d1ba4f01",
   "metadata": {},
   "source": [
    "### 3. Combining variables"
   ]
  },
  {
   "cell_type": "code",
   "execution_count": 30,
   "id": "943b84b6",
   "metadata": {},
   "outputs": [
    {
     "name": "stdout",
     "output_type": "stream",
     "text": [
      "Fried Chicken is my favorite food!\n"
     ]
    }
   ],
   "source": [
    "# We can combine two strings with each other:\n",
    "x = 'Fried Chicken is my favorite food' + '!'\n",
    "\n",
    "print(x)"
   ]
  },
  {
   "cell_type": "code",
   "execution_count": 24,
   "id": "78e173fe",
   "metadata": {},
   "outputs": [
    {
     "name": "stdout",
     "output_type": "stream",
     "text": [
      "5\n"
     ]
    }
   ],
   "source": [
    "# We can combine two integers with each other:\n",
    "y = 3 + 2\n",
    "print (y)"
   ]
  },
  {
   "cell_type": "code",
   "execution_count": 31,
   "id": "e76a480a",
   "metadata": {},
   "outputs": [
    {
     "ename": "TypeError",
     "evalue": "can only concatenate str (not \"int\") to str",
     "output_type": "error",
     "traceback": [
      "\u001b[1;31m---------------------------------------------------------------------------\u001b[0m",
      "\u001b[1;31mTypeError\u001b[0m                                 Traceback (most recent call last)",
      "\u001b[1;32m~\\AppData\\Local\\Temp\\ipykernel_2624\\4022803060.py\u001b[0m in \u001b[0;36m<module>\u001b[1;34m\u001b[0m\n\u001b[1;32m----> 1\u001b[1;33m \u001b[0mx\u001b[0m \u001b[1;33m=\u001b[0m \u001b[1;34m'Fried Chicken is my favorite food'\u001b[0m \u001b[1;33m+\u001b[0m \u001b[1;36m2\u001b[0m\u001b[1;33m\u001b[0m\u001b[1;33m\u001b[0m\u001b[0m\n\u001b[0m",
      "\u001b[1;31mTypeError\u001b[0m: can only concatenate str (not \"int\") to str"
     ]
    }
   ],
   "source": [
    "# But we can't do x = 'Fried Chicken is my favorite food' + 2\n",
    "# Cannot combine string and integer together, hence the error message\n",
    "x = 'Fried Chicken is my favorite food' + 2"
   ]
  },
  {
   "cell_type": "code",
   "execution_count": 37,
   "id": "d2ccef42",
   "metadata": {},
   "outputs": [
    {
     "name": "stdout",
     "output_type": "stream",
     "text": [
      "Fried Chicken is my favorite,\n",
      "Fried Chicken is my favorite, but I also love fried chicken\n"
     ]
    }
   ],
   "source": [
    "#Another example of combining strings with each other:\n",
    "x = 'Fried Chicken'\n",
    "y= ' is'\n",
    "z = ' my favorite,'\n",
    "a = ' but I also'\n",
    "b = ' love fried chicken'\n",
    "print(x+y+z)\n",
    "print(x+y+z+a+b)"
   ]
  },
  {
   "cell_type": "code",
   "execution_count": 38,
   "id": "261498bc",
   "metadata": {},
   "outputs": [
    {
     "name": "stdout",
     "output_type": "stream",
     "text": [
      "6\n"
     ]
    }
   ],
   "source": [
    "# Another example of combining integers. In this case, it's gonna be a sum of x, y, z\n",
    "x = 1\n",
    "y = 2\n",
    "z = 3\n",
    "print(x+y+z)"
   ]
  },
  {
   "cell_type": "code",
   "execution_count": 40,
   "id": "5fafeca9",
   "metadata": {},
   "outputs": [
    {
     "name": "stdout",
     "output_type": "stream",
     "text": [
      "Sushi 100\n"
     ]
    }
   ],
   "source": [
    "# Notice, we can combine str and int variables here and print them.\n",
    "# Remember to use a comma ',' to separate while print. Otherwise won't work with a '+'\n",
    "\n",
    "x = 'Sushi'\n",
    "y= 100\n",
    "print(x,y)"
   ]
  },
  {
   "cell_type": "code",
   "execution_count": 39,
   "id": "90d2a94c",
   "metadata": {},
   "outputs": [
    {
     "ename": "TypeError",
     "evalue": "can only concatenate str (not \"int\") to str",
     "output_type": "error",
     "traceback": [
      "\u001b[1;31m---------------------------------------------------------------------------\u001b[0m",
      "\u001b[1;31mTypeError\u001b[0m                                 Traceback (most recent call last)",
      "\u001b[1;32m~\\AppData\\Local\\Temp\\ipykernel_2624\\3901259204.py\u001b[0m in \u001b[0;36m<module>\u001b[1;34m\u001b[0m\n\u001b[0;32m      1\u001b[0m \u001b[0mx\u001b[0m \u001b[1;33m=\u001b[0m \u001b[1;34m'Ice Cream'\u001b[0m\u001b[1;33m\u001b[0m\u001b[1;33m\u001b[0m\u001b[0m\n\u001b[0;32m      2\u001b[0m \u001b[0my\u001b[0m\u001b[1;33m=\u001b[0m \u001b[1;36m1\u001b[0m\u001b[1;33m\u001b[0m\u001b[1;33m\u001b[0m\u001b[0m\n\u001b[1;32m----> 3\u001b[1;33m \u001b[0mprint\u001b[0m\u001b[1;33m(\u001b[0m\u001b[0mx\u001b[0m\u001b[1;33m+\u001b[0m\u001b[0my\u001b[0m\u001b[1;33m)\u001b[0m\u001b[1;33m\u001b[0m\u001b[1;33m\u001b[0m\u001b[0m\n\u001b[0m",
      "\u001b[1;31mTypeError\u001b[0m: can only concatenate str (not \"int\") to str"
     ]
    }
   ],
   "source": [
    "# As mentioned in previous line, we cannot use '+' to combine string and integer variables together, hence the error message\n",
    "x = 'Ice Cream'\n",
    "y= 1\n",
    "print(x+y)"
   ]
  }
 ],
 "metadata": {
  "kernelspec": {
   "display_name": "Python 3 (ipykernel)",
   "language": "python",
   "name": "python3"
  },
  "language_info": {
   "codemirror_mode": {
    "name": "ipython",
    "version": 3
   },
   "file_extension": ".py",
   "mimetype": "text/x-python",
   "name": "python",
   "nbconvert_exporter": "python",
   "pygments_lexer": "ipython3",
   "version": "3.9.13"
  }
 },
 "nbformat": 4,
 "nbformat_minor": 5
}
