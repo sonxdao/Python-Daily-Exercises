{
 "cells": [
  {
   "cell_type": "markdown",
   "id": "ecb00695",
   "metadata": {},
   "source": [
    "# Working with Character Input"
   ]
  },
  {
   "cell_type": "markdown",
   "id": "6c43630c",
   "metadata": {},
   "source": [
    "### Outcome: the goal of this exercise is to be able to get inputs from users and manipulate those inputs."
   ]
  },
  {
   "cell_type": "markdown",
   "id": "a83cfc6f",
   "metadata": {},
   "source": [
    "Exercise 1: Create a program that asks the user to enter their name and their age. Print out a message addressed to them that tells them the year that they will turn 100 years old."
   ]
  },
  {
   "cell_type": "code",
   "execution_count": null,
   "id": "c5a0f342",
   "metadata": {},
   "outputs": [],
   "source": [
    "# The datetime module is used to work with dates and times in Python.\n",
    "# In this specific program, we import the datetime module to obtain the current year\n",
    "import datetime"
   ]
  },
  {
   "cell_type": "code",
   "execution_count": null,
   "id": "c24971dd",
   "metadata": {
    "scrolled": true
   },
   "outputs": [],
   "source": [
    "# Create two variables that ask the users their name and age\n",
    "yourName = input(\"Enter your name here: \")\n",
    "yourAge = int(input(\"Enter your age here: \"))\n",
    "print(yourName)\n",
    "print(yourAge)\n",
    "\n",
    "# Create a variable that asks for the current year:\n",
    "currentYear = int(input(\"Enter the current year: \"))\n",
    "print(currentYear)\n",
    "\n",
    "# Calculate the year when the user reaches 100 years old\n",
    "year100 = currentYear - yourAge + 100\n",
    "\n",
    "# Finally, print out the message that informs the user when they reach 100 years old\n",
    "print(yourName + \", you will be 100 years old in \" + str(year100))"
   ]
  },
  {
   "cell_type": "markdown",
   "id": "affac0a8",
   "metadata": {},
   "source": [
    "Summary of exercise 1: we demonstrated the ability to collect both character and integer inputs. Moreover, we used basic data manipulation to calculate a specific year based on given input. \n",
    "\n",
    "From our previous lesson, we learned that we cannot combine a string and an integer together. It is similar with printing, we cannot print both a string and an integer together. In the final print function, the variable year100 is converted into a string so that we can print out the whole coherent message."
   ]
  }
 ],
 "metadata": {
  "kernelspec": {
   "display_name": "Python 3 (ipykernel)",
   "language": "python",
   "name": "python3"
  },
  "language_info": {
   "codemirror_mode": {
    "name": "ipython",
    "version": 3
   },
   "file_extension": ".py",
   "mimetype": "text/x-python",
   "name": "python",
   "nbconvert_exporter": "python",
   "pygments_lexer": "ipython3",
   "version": "3.9.13"
  }
 },
 "nbformat": 4,
 "nbformat_minor": 5
}
